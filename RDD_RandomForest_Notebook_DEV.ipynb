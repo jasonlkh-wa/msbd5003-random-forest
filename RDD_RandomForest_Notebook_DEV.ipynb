{
 "cells": [
  {
   "cell_type": "code",
   "execution_count": 1,
   "id": "e2bdfc35",
   "metadata": {},
   "outputs": [],
   "source": [
    "import numpy as np\n",
    "import pandas as pd\n",
    "from pyspark.sql.functions import *\n",
    "from pyspark.sql import functions as F\n",
    "from pyspark.sql.types import *\n",
    "import random as rand\n",
    "from pyspark.sql.window import Window"
   ]
  },
  {
   "cell_type": "code",
   "execution_count": 2,
   "id": "2deb03d9",
   "metadata": {},
   "outputs": [
    {
     "name": "stderr",
     "output_type": "stream",
     "text": [
      "24/05/05 11:32:06 WARN SparkSession: Using an existing Spark session; only runtime SQL configurations will take effect.\n"
     ]
    }
   ],
   "source": [
    "# Initialize Spark session\n",
    "spark = SparkSession.builder.appName(\"randomforest\").getOrCreate()"
   ]
  },
  {
   "cell_type": "code",
   "execution_count": 3,
   "id": "1b3a5ef0",
   "metadata": {},
   "outputs": [
    {
     "name": "stdout",
     "output_type": "stream",
     "text": [
      "all_categorical_arr: x_all_categorical_arr.shape=(100, 10)\n",
      "all_numerical_arr: x_all_numerical_arr.shape=(100, 10)\n"
     ]
    }
   ],
   "source": [
    "#random gen dataset\n",
    "RANDOM_SEED = 42\n",
    "np.random.seed(RANDOM_SEED)\n",
    "x_all_categorical_arr = np.random.randint(0, 2, (100, 10))\n",
    "x_all_numerical_arr = np.random.rand(100, 10)\n",
    "y_categorical_arr = np.random.randint(0, 2, 100)\n",
    "#balanced_arr = np.concatenate([balanced_categorical_arr, balanced_numerical_arr], axis=1)\n",
    "print(f\"all_categorical_arr: {x_all_categorical_arr.shape=}\")\n",
    "print(f\"all_numerical_arr: {x_all_numerical_arr.shape=}\")\n",
    "#print(f\"balanced_arr: {balanced_arr.shape=}\")"
   ]
  },
  {
   "cell_type": "code",
   "execution_count": 4,
   "id": "67df864a",
   "metadata": {},
   "outputs": [],
   "source": [
    "x_data = spark.createDataFrame(x_all_numerical_arr)"
   ]
  },
  {
   "cell_type": "code",
   "execution_count": 5,
   "id": "3928a1b4",
   "metadata": {},
   "outputs": [],
   "source": [
    "y_data = spark.createDataFrame(y_categorical_arr,['y'])"
   ]
  },
  {
   "cell_type": "code",
   "execution_count": 6,
   "id": "51014500",
   "metadata": {},
   "outputs": [],
   "source": [
    "#Index\n",
    "x_indexed=x_data.withColumn(\"id\",monotonically_increasing_id())\n",
    "y_indexed=y_data.withColumn(\"id\",monotonically_increasing_id())"
   ]
  },
  {
   "cell_type": "code",
   "execution_count": 7,
   "id": "eef2fea2",
   "metadata": {},
   "outputs": [
    {
     "name": "stdout",
     "output_type": "stream",
     "text": [
      "['_1', '_2', '_3', '_4', '_5', '_6', '_7', '_8', '_9', '_10']\n",
      "['y']\n"
     ]
    }
   ],
   "source": [
    "# DEVELOPMENT: create joined df for computation with one id\n",
    "joined_df = x_indexed.join(y_indexed, \"id\").drop('id')\n",
    "x_train = joined_df.drop('y')\n",
    "y_train = joined_df.select('y')\n",
    "print(x_train.columns)\n",
    "print(y_train.columns)"
   ]
  },
  {
   "cell_type": "code",
   "execution_count": 8,
   "id": "4ac62236",
   "metadata": {},
   "outputs": [
    {
     "data": {
      "text/plain": [
       "DataFrame[_1: double, _2: double, _3: double, _4: double, _5: double, _6: double, _7: double, _8: double, _9: double, _10: double, y: bigint]"
      ]
     },
     "execution_count": 8,
     "metadata": {},
     "output_type": "execute_result"
    }
   ],
   "source": [
    "# bootstrap function definition\n",
    "RANDOM_SEED = 42\n",
    "\n",
    "# weighted bootstrap subdataset\n",
    "\n",
    "#partition the dataframe dataset\n",
    "joined_df = joined_df.repartition(10)\n",
    "joined_df.cache()"
   ]
  },
  {
   "cell_type": "code",
   "execution_count": null,
   "id": "3a565f10",
   "metadata": {},
   "outputs": [],
   "source": []
  },
  {
   "cell_type": "code",
   "execution_count": 9,
   "id": "77d68bf5",
   "metadata": {},
   "outputs": [],
   "source": [
    "# Define entropy for classification evaluation crtieria\n",
    "# receives a probably as input to calculate entropy\n",
    "\n",
    "def class_entropy(df):\n",
    "    #  entropy calculation for binary classification\n",
    "    col_name = \"y\"\n",
    "    counts = df.groupBy(col_name).count()\n",
    "    total = df.count()\n",
    "    return counts.withColumn(\"prob\", F.col(\"count\") / total).select(\n",
    "        F.sum(-F.col(\"prob\") * F.log2(F.col(\"prob\"))).alias(\"entropy\")\n",
    "    ).first()[\"entropy\"]\n",
    "\n",
    "def prob(df):\n",
    "    #  probably calcluation for binary classification\n",
    "    count = np.count_nonzero(df)   \n",
    "    if count == 0:\n",
    "        return float(0)\n",
    "    else:\n",
    "        total = len(df)\n",
    "        prob = np.divide(count,total)\n",
    "        return float(prob)\n",
    "\n",
    "class_entropy_udf = udf(class_entropy, ArrayType(DoubleType()))\n",
    "prob_udf = udf(prob,FloatType())"
   ]
  },
  {
   "cell_type": "code",
   "execution_count": null,
   "id": "b20dd7e1",
   "metadata": {},
   "outputs": [],
   "source": []
  },
  {
   "cell_type": "code",
   "execution_count": 10,
   "id": "10313249",
   "metadata": {},
   "outputs": [],
   "source": [
    "def new_split_2(joined_df, feature_index):\n",
    "    \n",
    "    # Select relevant columns\n",
    "    feature_col_name = joined_df.columns[feature_index]\n",
    "    y_col_name = joined_df.columns[-1]\n",
    "    split_data = joined_df.select(feature_col_name, y_col_name)\\\n",
    "        .withColumnRenamed(feature_col_name,\"feature\")\\\n",
    "        .withColumnRenamed(y_col_name,\"y\")\n",
    "    \n",
    "    # Calculate parent entropy\n",
    "    parent_entropy = class_entropy(joined_df.select(\"y\"))\n",
    "    broadcast_parent_entropy = spark.sparkContext.broadcast(parent_entropy)\n",
    "    parent_data_count = joined_df.count()\n",
    "    broadcast_parent_count = spark.sparkContext.broadcast(parent_data_count)\n",
    "\n",
    "    \n",
    "    # Calculate potential splits and their Information Gain\n",
    "    distinct_values = split_data.select(\"feature\")\\\n",
    "        .withColumnRenamed(\"feature\",\"split_value\")\\\n",
    "        .distinct()\\\n",
    "        .sample(False, 0.1)\n",
    "    \n",
    "    joined = split_data.join(F.broadcast(distinct_values),\\\n",
    "                             split_data[\"feature\"] <= distinct_values[\"split_value\"], \\\n",
    "                             \"left\")\n",
    "\n",
    "    # Calculate conditional entropy more efficiently\n",
    "    conditional_counts = joined.groupBy(\"split_value\").agg(\n",
    "        F.count(\"y\").alias(\"left_count\"),\n",
    "        F.sum(\"y\").alias(\"left_sum\")\n",
    "    )\n",
    "      \n",
    "    # Calculate probabilities and entropy\n",
    "    conditional_counts = conditional_counts.withColumn(\"left_prob\", F.col(\"left_sum\") / F.col(\"left_count\"))\n",
    "    conditional_counts = conditional_counts.withColumn(\n",
    "        \"left_entropy\",\n",
    "        -F.col(\"left_prob\") * F.log2(F.col(\"left_prob\"))\\\n",
    "        - (1 - F.col(\"left_prob\")) * F.log2(1 - F.col(\"left_prob\"))\n",
    "    )\n",
    "\n",
    "\n",
    "    # Calculate Information Gain\n",
    "    info_gain = conditional_counts.withColumn(\n",
    "        \"info_gain\",\n",
    "        broadcast_parent_entropy.value - (F.col(\"left_entropy\") * (F.col(\"left_count\") / broadcast_parent_count.value))\n",
    "    )\n",
    "    \n",
    "    # Get the best split\n",
    "    best_split = info_gain.orderBy(F.desc(\"info_gain\")).first()\n",
    "    \n",
    "    schema = StructType([\n",
    "        StructField(\"feature\", IntegerType(), True),\n",
    "        StructField(\"split_value\", FloatType(), True),\n",
    "        StructField(\"info_gain\", FloatType(), True),\n",
    "    ])\n",
    "    \n",
    "    # Prepare output DataFrame\n",
    "    if best_split is None or best_split[\"info_gain\"] is None or best_split[\"split_value\"] is None:\n",
    "        result_df = spark.createDataFrame([(feature_index, float(0), float(0))], schema)\n",
    "    else:\n",
    "        result_df = spark.createDataFrame([(feature_index, float(best_split[\"split_value\"]), best_split[\"info_gain\"])], schema)\n",
    "    \n",
    "    \n",
    "    \n",
    "    \n",
    "    return result_df"
   ]
  },
  {
   "cell_type": "code",
   "execution_count": 166,
   "id": "0398838f",
   "metadata": {},
   "outputs": [],
   "source": [
    "'''\n",
    "TESTING: \n",
    "result_df = new_split_2(joined_df,8)\n",
    "result_df.show()\n",
    "'''\n"
   ]
  },
  {
   "cell_type": "code",
   "execution_count": null,
   "id": "0e2785bc",
   "metadata": {},
   "outputs": [],
   "source": []
  },
  {
   "cell_type": "code",
   "execution_count": 14,
   "id": "5fd7d877",
   "metadata": {},
   "outputs": [],
   "source": []
  },
  {
   "cell_type": "code",
   "execution_count": 39,
   "id": "b7534432",
   "metadata": {},
   "outputs": [],
   "source": []
  },
  {
   "cell_type": "code",
   "execution_count": null,
   "id": "835cad14",
   "metadata": {},
   "outputs": [],
   "source": []
  },
  {
   "cell_type": "code",
   "execution_count": null,
   "id": "a71fc17d",
   "metadata": {},
   "outputs": [],
   "source": []
  },
  {
   "cell_type": "code",
   "execution_count": 11,
   "id": "e6e11fcc",
   "metadata": {},
   "outputs": [],
   "source": [
    "# Build tree from splitting\n",
    "\n",
    "# each tree\n",
    "# (i) for each feature: find_split\n",
    "# (ii) Mapbypartition(find_split)\n",
    "\n",
    "def feature_split(dataset, feature_array):\n",
    "    \n",
    "    ''' \n",
    "    Input: \n",
    "    partition: a pyspark dataframe partition to be called by foreachPartition,\n",
    "    feature_array: a broadcasted feature array for the tree that is intiialized earlier on\n",
    "    '''\n",
    "    #define schema\n",
    "    schema = StructType([\n",
    "        StructField(\"feature\", IntegerType(), True),\n",
    "        StructField(\"split_value\", FloatType(), True),\n",
    "        StructField(\"info_gain\", FloatType(), True),\n",
    "    ])\n",
    "    feature_df = spark.createDataFrame([], schema)\n",
    "    \n",
    "    # for each feature array, get a split and append the dataframe \n",
    "    for feature_index in feature_array:\n",
    "        \n",
    "        # find split\n",
    "        feature_split = new_split_2(dataset, feature_index)\n",
    "        \n",
    "        #add feature  \n",
    "        feature_df = feature_df.union(feature_split)\n",
    "        \n",
    "    return feature_df"
   ]
  },
  {
   "cell_type": "code",
   "execution_count": 76,
   "id": "28730081",
   "metadata": {},
   "outputs": [
    {
     "name": "stderr",
     "output_type": "stream",
     "text": [
      "                                                                                \r"
     ]
    },
    {
     "data": {
      "text/plain": [
       "DataFrame[feature: int, split_value: float, info_gain: float]"
      ]
     },
     "execution_count": 76,
     "metadata": {},
     "output_type": "execute_result"
    }
   ],
   "source": []
  },
  {
   "cell_type": "code",
   "execution_count": 43,
   "id": "48e896b7",
   "metadata": {},
   "outputs": [
    {
     "data": {
      "text/plain": [
       "DataFrame[feature: int, split_value: float, info_gain: float]"
      ]
     },
     "execution_count": 43,
     "metadata": {},
     "output_type": "execute_result"
    }
   ],
   "source": [
    "feature_split(joined_df,[0,1,2])"
   ]
  },
  {
   "cell_type": "code",
   "execution_count": null,
   "id": "2f903dd6",
   "metadata": {},
   "outputs": [],
   "source": []
  },
  {
   "cell_type": "code",
   "execution_count": 12,
   "id": "f1fb1531",
   "metadata": {},
   "outputs": [],
   "source": [
    "def split_node(df,feature_array):\n",
    "\n",
    "    #init\n",
    "    y_label = df.columns[-1]\n",
    "    node_parent = {}\n",
    "    best_gain = -1\n",
    "    best_feature= 0 \n",
    "    best_split = 0\n",
    "    \n",
    "    #get first tree\n",
    "    feature_df = feature_split(df,feature_array)\n",
    "    feature_list = feature_df.rdd.collect()\n",
    "    \n",
    "    #init\n",
    "    for feature in feature_list:\n",
    "        \n",
    "        #assign val\n",
    "        feature_idx = feature[0]\n",
    "        split_val = feature[1]\n",
    "        gain = feature[2]\n",
    "        \n",
    "        if gain is None:\n",
    "            gain = 0\n",
    "        \n",
    "        #check best\n",
    "        if gain > best_gain:\n",
    "            best_gain = gain\n",
    "            best_feature = feature_idx\n",
    "            best_split = split_val\n",
    "        \n",
    "    #generate split\n",
    "    left_df = df.filter(col(joined_df.columns[best_feature]) <= best_split)\n",
    "    right_df = df.filter(col(joined_df.columns[best_feature]) > best_split)\n",
    "        \n",
    "    #assign dictinary value of; key: feature, split_value, gain, and child\n",
    "    node_parent['feature'] = best_feature\n",
    "    node_parent['split_value'] = best_split\n",
    "    node_parent['gain'] = best_gain\n",
    "    \n",
    "    \n",
    "    return node_parent, left_df, right_df"
   ]
  },
  {
   "cell_type": "code",
   "execution_count": 46,
   "id": "036d3056",
   "metadata": {},
   "outputs": [
    {
     "name": "stderr",
     "output_type": "stream",
     "text": [
      "\r",
      "[Stage 593:===========================>                           (16 + 8) / 32]\r",
      "\r",
      "                                                                                \r"
     ]
    },
    {
     "data": {
      "text/plain": [
       "({'feature': 0,\n",
       "  'split_value': 0.031586144119501114,\n",
       "  'gain': 0.9721625447273254},\n",
       " DataFrame[_1: double, _2: double, _3: double, _4: double, _5: double, _6: double, _7: double, _8: double, _9: double, _10: double, y: bigint],\n",
       " DataFrame[_1: double, _2: double, _3: double, _4: double, _5: double, _6: double, _7: double, _8: double, _9: double, _10: double, y: bigint])"
      ]
     },
     "execution_count": 46,
     "metadata": {},
     "output_type": "execute_result"
    }
   ],
   "source": [
    "'''\n",
    "TESTING\n",
    "split_node(joined_df,[0,1,2])\n",
    "'''\n"
   ]
  },
  {
   "cell_type": "code",
   "execution_count": 13,
   "id": "008a9084",
   "metadata": {},
   "outputs": [],
   "source": [
    "def build_decision_tree(df, feature_array, max_depth, current_depth=0):\n",
    "    \n",
    "    \"\"\" Recursively build the decision tree. \"\"\"\n",
    "    #set y label\n",
    "    label_col = df.columns[-1]\n",
    "    distinct_count = df.select(label_col).distinct().count()\n",
    "    \n",
    "    if df is None or df.rdd.isEmpty():\n",
    "        return df\n",
    "    elif current_depth == max_depth:\n",
    "        # Return the most common label\n",
    "        most_common_label = df.groupBy(label_col).count().orderBy(\"count\", ascending=False).first()[label_col]\n",
    "        return df\n",
    "        #return most_common_label \n",
    "    elif distinct_count == 1:\n",
    "        return {\"label\": df.select(label_col).first()[0]}\n",
    "    \n",
    "    #split node\n",
    "    node_parent, left_df, right_df = split_node(df,feature_array)\n",
    "    \n",
    "    \n",
    "    # Cache potentially reused DataFrames\n",
    "    if left_df is not None and not left_df.rdd.isEmpty():\n",
    "        left_df.cache()\n",
    "    if right_df is not None and not right_df.rdd.isEmpty():\n",
    "        right_df.cache()\n",
    "\n",
    "    \n",
    "    #split if not empty    \n",
    "    if left_df is None or left_df == []:\n",
    "        right_subtree = build_decision_tree(right_df, feature_array, max_depth, current_depth + 1)\n",
    "    elif right_df is None or right_df ==[]:\n",
    "        left_subtree = build_decision_tree(left_df, feature_array, max_depth, current_depth + 1)\n",
    "    elif (left_df is None) and (right_df is None):\n",
    "        return {\"feature\": node_parent['feature'] , \"threshold\": node_parent['split_value'], \"left\": None, \"right\": None}\n",
    "    else:\n",
    "        left_subtree = build_decision_tree(left_df, feature_array, max_depth, current_depth + 1)\n",
    "        right_subtree = build_decision_tree(right_df, feature_array, max_depth, current_depth + 1)\n",
    "\n",
    "    # Clear cache after use\n",
    "    if left_df is not None:\n",
    "        left_df.unpersist()\n",
    "    if right_df is not None:\n",
    "        right_df.unpersist()\n",
    "        \n",
    "    \n",
    "    # return node structure\n",
    "    return {\n",
    "        \"feature\": node_parent['feature'] , \n",
    "        \"threshold\": node_parent['split_value'], \n",
    "        \"left\": left_subtree, \n",
    "        \"right\": right_subtree\n",
    "    }\n",
    "    "
   ]
  },
  {
   "cell_type": "code",
   "execution_count": null,
   "id": "1bf0fd9f",
   "metadata": {},
   "outputs": [],
   "source": []
  },
  {
   "cell_type": "code",
   "execution_count": 174,
   "id": "043ae424",
   "metadata": {},
   "outputs": [
    {
     "name": "stderr",
     "output_type": "stream",
     "text": [
      "                                                                                \r"
     ]
    },
    {
     "data": {
      "text/plain": [
       "{'feature': 0,\n",
       " 'threshold': 0.06707647442817688,\n",
       " 'left': {'feature': 0,\n",
       "  'threshold': 0.0,\n",
       "  'left': DataFrame[_1: double, _2: double, _3: double, _4: double, _5: double, _6: double, _7: double, _8: double, _9: double, _10: double, y: bigint],\n",
       "  'right': {'feature': 2,\n",
       "   'threshold': 0.17803595960140228,\n",
       "   'left': {'label': 0},\n",
       "   'right': {'label': 1}}},\n",
       " 'right': {'feature': 0,\n",
       "  'threshold': 0.0,\n",
       "  'left': DataFrame[_1: double, _2: double, _3: double, _4: double, _5: double, _6: double, _7: double, _8: double, _9: double, _10: double, y: bigint],\n",
       "  'right': {'feature': 3,\n",
       "   'threshold': 0.05708685517311096,\n",
       "   'left': {'feature': 3,\n",
       "    'threshold': 0.039426811039447784,\n",
       "    'left': {'feature': 0,\n",
       "     'threshold': 0.0,\n",
       "     'left': DataFrame[_1: double, _2: double, _3: double, _4: double, _5: double, _6: double, _7: double, _8: double, _9: double, _10: double, y: bigint],\n",
       "     'right': DataFrame[_1: double, _2: double, _3: double, _4: double, _5: double, _6: double, _7: double, _8: double, _9: double, _10: double, y: bigint]},\n",
       "    'right': {'label': 0}},\n",
       "   'right': {'feature': 0,\n",
       "    'threshold': 0.15335139632225037,\n",
       "    'left': {'feature': 0,\n",
       "     'threshold': 0.11063173413276672,\n",
       "     'left': DataFrame[_1: double, _2: double, _3: double, _4: double, _5: double, _6: double, _7: double, _8: double, _9: double, _10: double, y: bigint],\n",
       "     'right': DataFrame[_1: double, _2: double, _3: double, _4: double, _5: double, _6: double, _7: double, _8: double, _9: double, _10: double, y: bigint]},\n",
       "    'right': {'feature': 3,\n",
       "     'threshold': 0.07513777911663055,\n",
       "     'left': DataFrame[_1: double, _2: double, _3: double, _4: double, _5: double, _6: double, _7: double, _8: double, _9: double, _10: double, y: bigint],\n",
       "     'right': DataFrame[_1: double, _2: double, _3: double, _4: double, _5: double, _6: double, _7: double, _8: double, _9: double, _10: double, y: bigint]}}}}}"
      ]
     },
     "execution_count": 174,
     "metadata": {},
     "output_type": "execute_result"
    }
   ],
   "source": [
    "#TESTING:\n",
    "#tree = build_decision_tree(joined_df, [0,2,3], max_depth=5)\n",
    "#tree\n"
   ]
  },
  {
   "cell_type": "code",
   "execution_count": null,
   "id": "f15c1210",
   "metadata": {},
   "outputs": [],
   "source": []
  },
  {
   "cell_type": "code",
   "execution_count": null,
   "id": "ca9885cc",
   "metadata": {},
   "outputs": [],
   "source": []
  },
  {
   "cell_type": "code",
   "execution_count": null,
   "id": "955a0d3a",
   "metadata": {},
   "outputs": [],
   "source": []
  },
  {
   "cell_type": "code",
   "execution_count": 38,
   "id": "219ca50d",
   "metadata": {},
   "outputs": [],
   "source": [
    "def random_forest_train(df, num_trees, num_feature, max_depth):\n",
    "\n",
    "    #init\n",
    "    trees = {}\n",
    "    \n",
    "    # Pre-calculate the feature columns\n",
    "    columns = df.columns\n",
    "    feature_columns = df.columns[:-1]\n",
    "    column_size = len(columns)\n",
    "    \n",
    "    #set as indices list\n",
    "    column_indices = range(len(feature_columns))\n",
    "    feature_array = [*column_indices]\n",
    "\n",
    "    # def train_trees\n",
    "    def train_tree(df, column_size, feature_array, num_feature, max_depth):\n",
    "            \n",
    "        #sample feature\n",
    "        sampled = rand.sample(feature_array, num_feature)\n",
    "            \n",
    "        #add y column\n",
    "        sampled.append(column_size-1)\n",
    "\n",
    "        # Create a  DataFrame from the part of the partition\n",
    "        selected_columns = [columns[i] for i in sampled]\n",
    "        sampled_df = joined_df.select(selected_columns)\n",
    "            \n",
    "        # build information of new sample_trees\n",
    "        sample_df_columns = sampled_df.columns\n",
    "        sampled_df_features = sample_df_columns[:-1]\n",
    "        sampled_columns = range(len(sampled_df_features))\n",
    "        sampled_array = [*sampled_columns]\n",
    "        \n",
    "        tree = build_decision_tree(sampled_df, sampled_array, max_depth)\n",
    "            \n",
    "        return tree\n",
    "    \n",
    "    \n",
    "    # Apply our function to each partition of the DataFrame\n",
    "    for tree_idx in range(num_trees):\n",
    "        tree = train_tree(df, column_size, feature_array, num_feature, max_depth)\n",
    "        trees[tree_idx] = tree\n",
    "        df.cache()\n",
    "\n",
    "    # Unpersist the DataFrame as it's no longer needed\n",
    "    df.unpersist()\n",
    "\n",
    "    return trees"
   ]
  },
  {
   "cell_type": "code",
   "execution_count": 19,
   "id": "6a8283e3",
   "metadata": {},
   "outputs": [
    {
     "name": "stderr",
     "output_type": "stream",
     "text": [
      "24/05/05 11:37:01 WARN CacheManager: Asked to cache already cached data.        \n",
      "24/05/05 11:37:30 WARN CacheManager: Asked to cache already cached data.\n",
      "24/05/05 11:38:08 WARN CacheManager: Asked to cache already cached data.\n"
     ]
    }
   ],
   "source": [
    "trees = random_forest_train(joined_df, num_trees=3,num_feature = 3, max_depth=5)"
   ]
  },
  {
   "cell_type": "code",
   "execution_count": 20,
   "id": "3f6d921a",
   "metadata": {},
   "outputs": [
    {
     "data": {
      "text/plain": [
       "{0: {'feature': 0,\n",
       "  'threshold': 0.16362382471561432,\n",
       "  'left': {'feature': 0,\n",
       "   'threshold': 0.0,\n",
       "   'left': DataFrame[_3: double, _8: double, _9: double, y: bigint],\n",
       "   'right': {'feature': 0,\n",
       "    'threshold': 0.0,\n",
       "    'left': DataFrame[_3: double, _8: double, _9: double, y: bigint],\n",
       "    'right': {'feature': 0,\n",
       "     'threshold': 0.0,\n",
       "     'left': DataFrame[_3: double, _8: double, _9: double, y: bigint],\n",
       "     'right': {'feature': 0,\n",
       "      'threshold': 0.0,\n",
       "      'left': DataFrame[_3: double, _8: double, _9: double, y: bigint],\n",
       "      'right': DataFrame[_3: double, _8: double, _9: double, y: bigint]}}}},\n",
       "  'right': {'feature': 1,\n",
       "   'threshold': 0.36239388585090637,\n",
       "   'left': {'feature': 2,\n",
       "    'threshold': 0.35923337936401367,\n",
       "    'left': {'feature': 0,\n",
       "     'threshold': 0.0,\n",
       "     'left': DataFrame[_3: double, _8: double, _9: double, y: bigint],\n",
       "     'right': {'feature': 0,\n",
       "      'threshold': 0.0,\n",
       "      'left': DataFrame[_3: double, _8: double, _9: double, y: bigint],\n",
       "      'right': DataFrame[_3: double, _8: double, _9: double, y: bigint]}},\n",
       "    'right': {'feature': 2,\n",
       "     'threshold': 0.35923337936401367,\n",
       "     'left': DataFrame[_3: double, _8: double, _9: double, y: bigint],\n",
       "     'right': {'feature': 0,\n",
       "      'threshold': 0.0,\n",
       "      'left': DataFrame[_3: double, _8: double, _9: double, y: bigint],\n",
       "      'right': DataFrame[_3: double, _8: double, _9: double, y: bigint]}}},\n",
       "   'right': {'feature': 0,\n",
       "    'threshold': 0.0,\n",
       "    'left': DataFrame[_3: double, _8: double, _9: double, y: bigint],\n",
       "    'right': {'feature': 1,\n",
       "     'threshold': 0.36239388585090637,\n",
       "     'left': DataFrame[_3: double, _8: double, _9: double, y: bigint],\n",
       "     'right': {'feature': 0,\n",
       "      'threshold': 0.9327284693717957,\n",
       "      'left': DataFrame[_3: double, _8: double, _9: double, y: bigint],\n",
       "      'right': DataFrame[_3: double, _8: double, _9: double, y: bigint]}}}}},\n",
       " 1: {'feature': 1,\n",
       "  'threshold': 0.08786650002002716,\n",
       "  'left': {'feature': 0,\n",
       "   'threshold': 0.0,\n",
       "   'left': DataFrame[_3: double, _7: double, _4: double, y: bigint],\n",
       "   'right': {'feature': 0,\n",
       "    'threshold': 0.0,\n",
       "    'left': DataFrame[_3: double, _7: double, _4: double, y: bigint],\n",
       "    'right': {'feature': 0,\n",
       "     'threshold': 0.0,\n",
       "     'left': DataFrame[_3: double, _7: double, _4: double, y: bigint],\n",
       "     'right': {'feature': 0,\n",
       "      'threshold': 0.0,\n",
       "      'left': DataFrame[_3: double, _7: double, _4: double, y: bigint],\n",
       "      'right': DataFrame[_3: double, _7: double, _4: double, y: bigint]}}}},\n",
       "  'right': {'feature': 2,\n",
       "   'threshold': 0.08175903558731079,\n",
       "   'left': {'label': 1},\n",
       "   'right': {'feature': 2,\n",
       "    'threshold': 0.12056688219308853,\n",
       "    'left': {'label': 1},\n",
       "    'right': {'feature': 1,\n",
       "     'threshold': 0.13401523232460022,\n",
       "     'left': {'label': 0},\n",
       "     'right': {'feature': 0,\n",
       "      'threshold': 0.2238176167011261,\n",
       "      'left': DataFrame[_3: double, _7: double, _4: double, y: bigint],\n",
       "      'right': DataFrame[_3: double, _7: double, _4: double, y: bigint]}}}}},\n",
       " 2: {'feature': 1,\n",
       "  'threshold': 0.2051396369934082,\n",
       "  'left': {'feature': 0,\n",
       "   'threshold': 0.0,\n",
       "   'left': DataFrame[_9: double, _5: double, _4: double, y: bigint],\n",
       "   'right': {'feature': 2,\n",
       "    'threshold': 0.6894649863243103,\n",
       "    'left': {'feature': 0,\n",
       "     'threshold': 0.9446142315864563,\n",
       "     'left': {'feature': 0,\n",
       "      'threshold': 0.0,\n",
       "      'left': DataFrame[_9: double, _5: double, _4: double, y: bigint],\n",
       "      'right': DataFrame[_9: double, _5: double, _4: double, y: bigint]},\n",
       "     'right': {'label': 0}},\n",
       "    'right': {'label': 1}}},\n",
       "  'right': {'feature': 2,\n",
       "   'threshold': 0.0731959268450737,\n",
       "   'left': {'feature': 0,\n",
       "    'threshold': 0.0,\n",
       "    'left': DataFrame[_9: double, _5: double, _4: double, y: bigint],\n",
       "    'right': {'feature': 0,\n",
       "     'threshold': 0.0,\n",
       "     'left': DataFrame[_9: double, _5: double, _4: double, y: bigint],\n",
       "     'right': {'feature': 0,\n",
       "      'threshold': 0.0,\n",
       "      'left': DataFrame[_9: double, _5: double, _4: double, y: bigint],\n",
       "      'right': DataFrame[_9: double, _5: double, _4: double, y: bigint]}}},\n",
       "   'right': {'feature': 2,\n",
       "    'threshold': 0.3972872793674469,\n",
       "    'left': {'feature': 1,\n",
       "     'threshold': 0.2051396369934082,\n",
       "     'left': DataFrame[_9: double, _5: double, _4: double, y: bigint],\n",
       "     'right': {'feature': 2,\n",
       "      'threshold': 0.12056688219308853,\n",
       "      'left': DataFrame[_9: double, _5: double, _4: double, y: bigint],\n",
       "      'right': DataFrame[_9: double, _5: double, _4: double, y: bigint]}},\n",
       "    'right': {'feature': 2,\n",
       "     'threshold': 0.40873417258262634,\n",
       "     'left': DataFrame[_9: double, _5: double, _4: double, y: bigint],\n",
       "     'right': {'feature': 1,\n",
       "      'threshold': 0.10717201232910156,\n",
       "      'left': DataFrame[_9: double, _5: double, _4: double, y: bigint],\n",
       "      'right': DataFrame[_9: double, _5: double, _4: double, y: bigint]}}}}}}"
      ]
     },
     "execution_count": 20,
     "metadata": {},
     "output_type": "execute_result"
    }
   ],
   "source": [
    "trees"
   ]
  },
  {
   "cell_type": "code",
   "execution_count": 40,
   "id": "c6214602",
   "metadata": {},
   "outputs": [
    {
     "name": "stderr",
     "output_type": "stream",
     "text": [
      "24/05/05 11:59:25 WARN CacheManager: Asked to cache already cached data.        \n",
      "24/05/05 11:59:50 WARN CacheManager: Asked to cache already cached data.\n"
     ]
    }
   ],
   "source": [
    "import time\n",
    "\n",
    "#measuring time for randomforest \n",
    "rf_start = time.time()\n",
    "trees = random_forest_train(joined_df, num_trees=3 , num_feature = 3, max_depth=5)\n",
    "rf_end = time.time()\n",
    "rf_time = rf_end - rf_start"
   ]
  },
  {
   "cell_type": "code",
   "execution_count": 41,
   "id": "1bbb7e99",
   "metadata": {},
   "outputs": [
    {
     "name": "stdout",
     "output_type": "stream",
     "text": [
      "75.26498413085938\n"
     ]
    }
   ],
   "source": [
    "print(rf_time)"
   ]
  },
  {
   "cell_type": "code",
   "execution_count": 42,
   "id": "dd2fe48a",
   "metadata": {},
   "outputs": [
    {
     "data": {
      "text/plain": [
       "{0: {'feature': 2,\n",
       "  'threshold': 0.03700763359665871,\n",
       "  'left': {'feature': 0,\n",
       "   'threshold': 0.0,\n",
       "   'left': DataFrame[_6: double, _5: double, _1: double, y: bigint],\n",
       "   'right': {'feature': 0,\n",
       "    'threshold': 0.7704074382781982,\n",
       "    'left': {'feature': 1,\n",
       "     'threshold': 0.6638045310974121,\n",
       "     'left': {'feature': 0,\n",
       "      'threshold': 0.0,\n",
       "      'left': DataFrame[_6: double, _5: double, _1: double, y: bigint],\n",
       "      'right': DataFrame[_6: double, _5: double, _1: double, y: bigint]},\n",
       "     'right': {'label': 0}},\n",
       "    'right': DataFrame[_6: double, _5: double, _1: double, y: bigint]}},\n",
       "  'right': {'feature': 1,\n",
       "   'threshold': 0.03038705885410309,\n",
       "   'left': {'label': 0},\n",
       "   'right': {'feature': 0,\n",
       "    'threshold': 0.02997359074652195,\n",
       "    'left': {'label': 1},\n",
       "    'right': {'feature': 1,\n",
       "     'threshold': 0.03038705885410309,\n",
       "     'left': DataFrame[_6: double, _5: double, _1: double, y: bigint],\n",
       "     'right': {'feature': 1,\n",
       "      'threshold': 0.018110183998942375,\n",
       "      'left': DataFrame[_6: double, _5: double, _1: double, y: bigint],\n",
       "      'right': DataFrame[_6: double, _5: double, _1: double, y: bigint]}}}}},\n",
       " 1: {'feature': 2,\n",
       "  'threshold': 0.009770847856998444,\n",
       "  'left': DataFrame[_8: double, _9: double, _4: double, y: bigint],\n",
       "  'right': {'feature': 2,\n",
       "   'threshold': 0.009770847856998444,\n",
       "   'left': DataFrame[_8: double, _9: double, _4: double, y: bigint],\n",
       "   'right': {'feature': 2,\n",
       "    'threshold': 0.009770847856998444,\n",
       "    'left': DataFrame[_8: double, _9: double, _4: double, y: bigint],\n",
       "    'right': {'feature': 1,\n",
       "     'threshold': 0.033203110098838806,\n",
       "     'left': {'label': 0},\n",
       "     'right': {'feature': 1,\n",
       "      'threshold': 0.033203110098838806,\n",
       "      'left': DataFrame[_8: double, _9: double, _4: double, y: bigint],\n",
       "      'right': DataFrame[_8: double, _9: double, _4: double, y: bigint]}}}}},\n",
       " 2: {'feature': 0,\n",
       "  'threshold': 0.0,\n",
       "  'left': DataFrame[_4: double, _2: double, _3: double, y: bigint],\n",
       "  'right': {'feature': 1,\n",
       "   'threshold': 0.051823537796735764,\n",
       "   'left': {'feature': 0,\n",
       "    'threshold': 0.398168683052063,\n",
       "    'left': {'label': 0},\n",
       "    'right': {'feature': 0,\n",
       "     'threshold': 0.0,\n",
       "     'left': DataFrame[_4: double, _2: double, _3: double, y: bigint],\n",
       "     'right': {'feature': 0,\n",
       "      'threshold': 0.0,\n",
       "      'left': DataFrame[_4: double, _2: double, _3: double, y: bigint],\n",
       "      'right': DataFrame[_4: double, _2: double, _3: double, y: bigint]}}},\n",
       "   'right': {'feature': 1,\n",
       "    'threshold': 0.09390071779489517,\n",
       "    'left': {'feature': 0,\n",
       "     'threshold': 0.0,\n",
       "     'left': DataFrame[_4: double, _2: double, _3: double, y: bigint],\n",
       "     'right': {'feature': 0,\n",
       "      'threshold': 0.0,\n",
       "      'left': DataFrame[_4: double, _2: double, _3: double, y: bigint],\n",
       "      'right': DataFrame[_4: double, _2: double, _3: double, y: bigint]}},\n",
       "    'right': {'feature': 0,\n",
       "     'threshold': 0.08175903558731079,\n",
       "     'left': {'feature': 0,\n",
       "      'threshold': 0.898054301738739,\n",
       "      'left': DataFrame[_4: double, _2: double, _3: double, y: bigint],\n",
       "      'right': DataFrame[_4: double, _2: double, _3: double, y: bigint]},\n",
       "     'right': {'feature': 1,\n",
       "      'threshold': 0.12886986136436462,\n",
       "      'left': DataFrame[_4: double, _2: double, _3: double, y: bigint],\n",
       "      'right': DataFrame[_4: double, _2: double, _3: double, y: bigint]}}}}}}"
      ]
     },
     "execution_count": 42,
     "metadata": {},
     "output_type": "execute_result"
    }
   ],
   "source": [
    "# show values\n",
    "trees"
   ]
  },
  {
   "cell_type": "code",
   "execution_count": 43,
   "id": "9224e548",
   "metadata": {},
   "outputs": [
    {
     "name": "stderr",
     "output_type": "stream",
     "text": [
      "                                                                                \r"
     ]
    }
   ],
   "source": [
    "#measuring time for one individual tree\n",
    "tree_start = time.time()\n",
    "tree = build_decision_tree(joined_df, [0,2,3], max_depth=5)\n",
    "tree_end = time.time()\n",
    "tree_time = tree_end - tree_start"
   ]
  },
  {
   "cell_type": "code",
   "execution_count": 44,
   "id": "bd315711",
   "metadata": {},
   "outputs": [
    {
     "name": "stdout",
     "output_type": "stream",
     "text": [
      "47.100401878356934\n"
     ]
    }
   ],
   "source": [
    "print(tree_time)"
   ]
  },
  {
   "cell_type": "code",
   "execution_count": 45,
   "id": "5a35c107",
   "metadata": {},
   "outputs": [
    {
     "data": {
      "text/plain": [
       "{'feature': 2,\n",
       " 'threshold': 0.10659302771091461,\n",
       " 'left': {'feature': 0,\n",
       "  'threshold': 0.23107479512691498,\n",
       "  'left': {'feature': 2,\n",
       "   'threshold': 0.05197128280997276,\n",
       "   'left': {'label': 1},\n",
       "   'right': {'label': 0}},\n",
       "  'right': {'feature': 0,\n",
       "   'threshold': 0.0,\n",
       "   'left': DataFrame[_1: double, _2: double, _3: double, _4: double, _5: double, _6: double, _7: double, _8: double, _9: double, _10: double, y: bigint],\n",
       "   'right': {'feature': 2,\n",
       "    'threshold': 0.0420931912958622,\n",
       "    'left': {'feature': 0,\n",
       "     'threshold': 0.0,\n",
       "     'left': DataFrame[_1: double, _2: double, _3: double, _4: double, _5: double, _6: double, _7: double, _8: double, _9: double, _10: double, y: bigint],\n",
       "     'right': DataFrame[_1: double, _2: double, _3: double, _4: double, _5: double, _6: double, _7: double, _8: double, _9: double, _10: double, y: bigint]},\n",
       "    'right': {'label': 1}}}},\n",
       " 'right': {'feature': 3,\n",
       "  'threshold': 0.03113408200442791,\n",
       "  'left': {'feature': 0,\n",
       "   'threshold': 0.0,\n",
       "   'left': DataFrame[_1: double, _2: double, _3: double, _4: double, _5: double, _6: double, _7: double, _8: double, _9: double, _10: double, y: bigint],\n",
       "   'right': {'feature': 0,\n",
       "    'threshold': 0.817834198474884,\n",
       "    'left': {'feature': 0,\n",
       "     'threshold': 0.0,\n",
       "     'left': DataFrame[_1: double, _2: double, _3: double, _4: double, _5: double, _6: double, _7: double, _8: double, _9: double, _10: double, y: bigint],\n",
       "     'right': DataFrame[_1: double, _2: double, _3: double, _4: double, _5: double, _6: double, _7: double, _8: double, _9: double, _10: double, y: bigint]},\n",
       "    'right': {'label': 1}}},\n",
       "  'right': {'feature': 2,\n",
       "   'threshold': 0.11730819195508957,\n",
       "   'left': {'feature': 0,\n",
       "    'threshold': 0.0,\n",
       "    'left': DataFrame[_1: double, _2: double, _3: double, _4: double, _5: double, _6: double, _7: double, _8: double, _9: double, _10: double, y: bigint],\n",
       "    'right': {'feature': 0,\n",
       "     'threshold': 0.0,\n",
       "     'left': DataFrame[_1: double, _2: double, _3: double, _4: double, _5: double, _6: double, _7: double, _8: double, _9: double, _10: double, y: bigint],\n",
       "     'right': DataFrame[_1: double, _2: double, _3: double, _4: double, _5: double, _6: double, _7: double, _8: double, _9: double, _10: double, y: bigint]}},\n",
       "   'right': {'feature': 2,\n",
       "    'threshold': 0.1274886578321457,\n",
       "    'left': {'label': 1},\n",
       "    'right': {'feature': 0,\n",
       "     'threshold': 0.06707647442817688,\n",
       "     'left': DataFrame[_1: double, _2: double, _3: double, _4: double, _5: double, _6: double, _7: double, _8: double, _9: double, _10: double, y: bigint],\n",
       "     'right': DataFrame[_1: double, _2: double, _3: double, _4: double, _5: double, _6: double, _7: double, _8: double, _9: double, _10: double, y: bigint]}}}}}"
      ]
     },
     "execution_count": 45,
     "metadata": {},
     "output_type": "execute_result"
    }
   ],
   "source": [
    "tree    "
   ]
  },
  {
   "cell_type": "code",
   "execution_count": null,
   "id": "fd91fd31",
   "metadata": {},
   "outputs": [],
   "source": []
  },
  {
   "cell_type": "code",
   "execution_count": null,
   "id": "40b17362",
   "metadata": {},
   "outputs": [],
   "source": []
  },
  {
   "cell_type": "code",
   "execution_count": null,
   "id": "785c7944",
   "metadata": {},
   "outputs": [],
   "source": []
  },
  {
   "cell_type": "code",
   "execution_count": null,
   "id": "2c4bf2b1",
   "metadata": {},
   "outputs": [],
   "source": []
  },
  {
   "cell_type": "code",
   "execution_count": null,
   "id": "0e852ff5",
   "metadata": {},
   "outputs": [],
   "source": []
  },
  {
   "cell_type": "code",
   "execution_count": null,
   "id": "9b9e4153",
   "metadata": {},
   "outputs": [],
   "source": []
  },
  {
   "cell_type": "code",
   "execution_count": null,
   "id": "ed53acfc",
   "metadata": {},
   "outputs": [],
   "source": []
  },
  {
   "cell_type": "code",
   "execution_count": null,
   "id": "a03c999f",
   "metadata": {},
   "outputs": [],
   "source": []
  },
  {
   "cell_type": "code",
   "execution_count": null,
   "id": "ae070385",
   "metadata": {},
   "outputs": [],
   "source": [
    "'''\n",
    "OLD VERSION OF new_split, please refer to new_split_2\n",
    "\n",
    "\n",
    "\n",
    "def new_split(joined_df, feature_index):\n",
    "    \n",
    "    # Select relevant columns\n",
    "    feature_col_name = joined_df.columns[feature_index]\n",
    "    y_col_name = joined_df.columns[-1]\n",
    "    split_data = joined_df.select(feature_col_name, y_col_name)\\\n",
    "        .withColumnRenamed(feature_col_name,\"feature\")\\\n",
    "        .withColumnRenamed(y_col_name,\"y\")\n",
    "    \n",
    "    # Calculate parent entropy\n",
    "    parent_entropy = class_entropy(joined_df.select(\"y\"))\n",
    "    parent_data_count = joined_df.count()\n",
    "\n",
    "    \n",
    "    # Calculate potential splits and their Information Gain\n",
    "    distinct_values = split_data.select(\"feature\")\\\n",
    "        .withColumnRenamed(\"feature\",\"split_value\")\\\n",
    "        .distinct()\\\n",
    "        .sample(False, 0.1)\n",
    "    \n",
    "    # Cartesian join to get split mask\n",
    "    splits_info = distinct_values.crossJoin(split_data)\\\n",
    "        .withColumn(\n",
    "        \"is_left\", F.col(\"feature\") <= F.col(\"split_value\")\n",
    "    )\n",
    "    \n",
    "    #aggregate list\n",
    "    entropies = splits_info.groupBy(\"split_value\", \"is_left\").agg(\n",
    "        F.count(\"y\").alias(\"count\"),\n",
    "        F.sum(\"y\").alias(\"sum\"),\n",
    "    ).withColumn('prob', F.col('sum')/F.col('count'))\n",
    "    entropies = entropies.withColumn(\"entropy\",\\\n",
    "                                    -F.col(\"prob\") * F.log2(F.col(\"prob\")) \\\n",
    "                                    -(1-F.col(\"prob\")) * F.log2((1-F.col(\"prob\")))\n",
    "                                    )\n",
    "    # Calculate Information Gain for each split\n",
    "    info_gain = entropies.groupBy(\"split_value\").agg(\n",
    "        (parent_entropy - F.sum(F.col(\"entropy\") * (F.col(\"count\") / parent_data_count))).alias(\"info_gain\")\n",
    "    )\n",
    "    \n",
    "    # Get the best split\n",
    "    best_split = info_gain.orderBy(F.desc(\"info_gain\")).first()\n",
    "    \n",
    "    schema = StructType([\n",
    "        StructField(\"feature\", IntegerType(), True),\n",
    "        StructField(\"split_value\", FloatType(), True),\n",
    "        StructField(\"info_gain\", FloatType(), True),\n",
    "    ])\n",
    "    \n",
    "    # Prepare output DataFrame\n",
    "    if best_split is None:\n",
    "        result_df = spark.createDataFrame([(feature_index, float(0), float(0))], schema)\n",
    "    else:\n",
    "        result_df = spark.createDataFrame([(feature_index, float(best_split[\"split_value\"]), best_split[\"info_gain\"])], schema)\n",
    "    \n",
    "    return result_df\n",
    "'''''"
   ]
  }
 ],
 "metadata": {
  "kernelspec": {
   "display_name": "Python 3 (ipykernel)",
   "language": "python",
   "name": "python3"
  },
  "language_info": {
   "codemirror_mode": {
    "name": "ipython",
    "version": 3
   },
   "file_extension": ".py",
   "mimetype": "text/x-python",
   "name": "python",
   "nbconvert_exporter": "python",
   "pygments_lexer": "ipython3",
   "version": "3.11.5"
  }
 },
 "nbformat": 4,
 "nbformat_minor": 5
}
